{
  "nbformat": 4,
  "nbformat_minor": 0,
  "metadata": {
    "colab": {
      "name": "assignment-python.ipynb",
      "provenance": []
    },
    "kernelspec": {
      "name": "python3",
      "display_name": "Python 3"
    },
    "language_info": {
      "name": "python"
    }
  },
  "cells": [
    {
      "cell_type": "code",
      "execution_count": 7,
      "metadata": {
        "id": "_yv8JHkzfoVb"
      },
      "outputs": [],
      "source": [
        "def formatRupee(number):\n",
        "    s, *d = str(number).partition(\".\")     #separating the decimal value and stroing in s, d variables like 46.7 so s= 46 and d=7    \n",
        "    r = \",\".join([s[x-2:x] for x in range(-3, -len(s), -2)][::-1] + [s[-3:]])   # attaching ',' in the pattern of INR like after first 3digits then 2 digits and so on \n",
        "    return \"\".join([r] + d)       # returning the final rupee value \n"
      ]
    },
    {
      "cell_type": "code",
      "source": [
        "formatRupee(15426) # calling the function"
      ],
      "metadata": {
        "colab": {
          "base_uri": "https://localhost:8080/",
          "height": 36
        },
        "id": "Ml5ID2cff0d3",
        "outputId": "2b04f2fa-90f1-44cd-9c05-68c499db5f64"
      },
      "execution_count": 8,
      "outputs": [
        {
          "output_type": "execute_result",
          "data": {
            "text/plain": [
              "'15,426'"
            ],
            "application/vnd.google.colaboratory.intrinsic+json": {
              "type": "string"
            }
          },
          "metadata": {},
          "execution_count": 8
        }
      ]
    },
    {
      "cell_type": "code",
      "source": [
        "formatRupee(456789.789) # calling the function with decimal"
      ],
      "metadata": {
        "colab": {
          "base_uri": "https://localhost:8080/",
          "height": 36
        },
        "id": "2k_QiaUAf5ZW",
        "outputId": "02d4217b-7586-4287-afdc-014c77eb4d2f"
      },
      "execution_count": 9,
      "outputs": [
        {
          "output_type": "execute_result",
          "data": {
            "text/plain": [
              "'4,56,789.789'"
            ],
            "application/vnd.google.colaboratory.intrinsic+json": {
              "type": "string"
            }
          },
          "metadata": {},
          "execution_count": 9
        }
      ]
    },
    {
      "cell_type": "code",
      "source": [
        "# 2. \n",
        "# When input has to be taken from the user\n",
        "# input the no of test cases\n",
        "i = int(input(\"No of test cses\"))   \n",
        "# Loop for i no of test cases\n",
        "for j in range(i):\n",
        "  # input the no of people in between and the height of ali and Gi-Hun \n",
        "  N = int(input(\" People\"))\n",
        "  K= int(input(\"Height\"))\n",
        "  l=[]\n",
        "  # for the no of people\n",
        "  for h in range(N):\n",
        " # range of height of all the people\n",
        "    b= int(input(\"Rnge of height\"))\n",
        "    # converting to a list \n",
        "    l.append(b)\n",
        "    # for storing minimum no of people to be shot\n",
        "  count=0\n",
        "  # for checking the no of people who need to be shot\n",
        "  for j in l:\n",
        "    # if someone's height is greater than the height of ali then \n",
        "    if j>K:\n",
        "      # count value is incremented \n",
        "      count+=1  \n",
        "  print(count)\n"
      ],
      "metadata": {
        "colab": {
          "base_uri": "https://localhost:8080/"
        },
        "id": "CpQVBYNpf8-R",
        "outputId": "7d70016a-9dfc-4ab5-bb5e-b7206a037094"
      },
      "execution_count": 20,
      "outputs": [
        {
          "output_type": "stream",
          "name": "stdout",
          "text": [
            "No of test cses3\n",
            " People4\n",
            "Height10\n",
            "Rnge of height2\n",
            "Rnge of height13\n",
            "Rnge of height4\n",
            "Rnge of height16\n",
            "2\n",
            " People5\n",
            "Height8\n",
            "Rnge of height9\n",
            "Rnge of height3\n",
            "Rnge of height8\n",
            "Rnge of height8\n",
            "Rnge of height4\n",
            "1\n",
            " People4\n",
            "Height6\n",
            "Rnge of height1\n",
            "Rnge of height2\n",
            "Rnge of height3\n",
            "Rnge of height4\n",
            "0\n"
          ]
        }
      ]
    },
    {
      "cell_type": "code",
      "source": [
        "# when input is in the form of string  \n",
        "t = int(input())\n",
        "for i in range(t):\n",
        "    N,K=map(int,input().split())\n",
        "    a=list(map(int,input().split()))\n",
        "    count =0\n",
        "    for i in a:\n",
        "        if i>K:\n",
        "            count= count + 1\n",
        "    print(count)        "
      ],
      "metadata": {
        "colab": {
          "base_uri": "https://localhost:8080/"
        },
        "id": "RkraVPgavSCV",
        "outputId": "e1c3aa56-d474-4734-8116-e2a20240bbda"
      },
      "execution_count": 21,
      "outputs": [
        {
          "output_type": "stream",
          "name": "stdout",
          "text": [
            "1\n",
            "4 10\n",
            "12 4 16 9\n",
            "2\n"
          ]
        }
      ]
    },
    {
      "cell_type": "code",
      "source": [
        ""
      ],
      "metadata": {
        "id": "6hLsmBJQ36_M"
      },
      "execution_count": null,
      "outputs": []
    }
  ]
}